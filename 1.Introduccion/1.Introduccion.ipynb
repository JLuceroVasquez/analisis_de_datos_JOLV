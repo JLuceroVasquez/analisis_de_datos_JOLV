{
 "cells": [
  {
   "cell_type": "code",
   "execution_count": 2,
   "metadata": {},
   "outputs": [
    {
     "name": "stdout",
     "output_type": "stream",
     "text": [
      "El número no es 6\n",
      "El número es menor que 6\n"
     ]
    }
   ],
   "source": [
    "# Indentancion: Son la sangrías que se puede poner el código para saber que líneas conforman los bloques de código. Debido a que en Phyton solo hay sangría y \":\"\n",
    "# En java hay otros limitadores como {} ; ()\n",
    "v1 = 5\n",
    "if v1 == 6:\n",
    "    print('El número es 6')\n",
    "    print('El número es positivo')\n",
    "else:\n",
    "    print('El número no es 6')\n",
    "    print('El número es menor que 6')\n"
   ]
  },
  {
   "cell_type": "code",
   "execution_count": null,
   "metadata": {},
   "outputs": [],
   "source": [
    "# Comentarios\n",
    "# Usar: documentar el código, documentar funciones para que nuestro código sea legible"
   ]
  },
  {
   "cell_type": "code",
   "execution_count": 13,
   "metadata": {},
   "outputs": [
    {
     "name": "stdout",
     "output_type": "stream",
     "text": [
      "<class 'complex'>\n"
     ]
    }
   ],
   "source": [
    "# Variables, en Phyton las variables se crean cuando se les asigna un valor. No es necesario declararlas.\n",
    "variable1 = 'Datapath'\n",
    "variable2 = 3\n",
    "variable3 = 2.4\n",
    "variable4 = 3j\n",
    "type(variable1)\n",
    "print(type(variable4))\n"
   ]
  },
  {
   "cell_type": "code",
   "execution_count": 9,
   "metadata": {},
   "outputs": [
    {
     "name": "stdout",
     "output_type": "stream",
     "text": [
      "pera\n",
      "manzana\n",
      "platano\n"
     ]
    }
   ],
   "source": [
    "# Asignación múltiples de variables\n",
    "x, y, z = 'pera', 'manzana', 'platano'\n",
    "print(x)\n",
    "print(y)\n",
    "print(z)"
   ]
  },
  {
   "cell_type": "code",
   "execution_count": 12,
   "metadata": {},
   "outputs": [
    {
     "name": "stdout",
     "output_type": "stream",
     "text": [
      "D\n"
     ]
    }
   ],
   "source": [
    "# String, los caracteres pueden estar en comillas simples o dobles.\n",
    "var1 = 'Datapath'\n",
    "# Se puede extraer una parte de la cadena, indicando en corchetes su ubicación. La ubicación del primer elemento es 0.\n",
    "print(var1[0])\n"
   ]
  },
  {
   "cell_type": "code",
   "execution_count": 21,
   "metadata": {},
   "outputs": [],
   "source": [
    "# Listas\n",
    "lista1 = [] #Lista vacía\n",
    "lista2 = [1, 2, 3, 4, 5] #Lista de enteros\n",
    "lista3 = ['data', 'path'] #Lista de strings\n",
    "lista4 = [1, 'data', 4] #Lista mixta\n",
    "lista5 = ['manzana', 2, 3, ['apple', 4, 5]] #Lista anidada\n",
    "lista6 = ['contar','un','cuento']"
   ]
  },
  {
   "cell_type": "code",
   "execution_count": 22,
   "metadata": {},
   "outputs": [
    {
     "name": "stdout",
     "output_type": "stream",
     "text": [
      "['manzana', 2, 3, ['apple', 4, 5]]\n",
      "manzana\n",
      "['apple', 4, 5]\n",
      "apple\n",
      "['contar', 'un', 'cuento']\n"
     ]
    }
   ],
   "source": [
    "print (lista5)\n",
    "print (lista5[0])\n",
    "print (lista5[3])\n",
    "print (lista5[3][0])\n",
    "print (lista6)"
   ]
  }
 ],
 "metadata": {
  "kernelspec": {
   "display_name": "Python 3",
   "language": "python",
   "name": "python3"
  },
  "language_info": {
   "codemirror_mode": {
    "name": "ipython",
    "version": 3
   },
   "file_extension": ".py",
   "mimetype": "text/x-python",
   "name": "python",
   "nbconvert_exporter": "python",
   "pygments_lexer": "ipython3",
   "version": "3.12.1"
  }
 },
 "nbformat": 4,
 "nbformat_minor": 2
}
