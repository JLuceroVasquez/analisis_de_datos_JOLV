{
 "cells": [
  {
   "cell_type": "code",
   "execution_count": 2,
   "metadata": {},
   "outputs": [
    {
     "name": "stdout",
     "output_type": "stream",
     "text": [
      "El número no es 6\n",
      "El número es menor que 6\n"
     ]
    }
   ],
   "source": [
    "# Indentancion: Son la sangrías que se puede poner el código para saber que líneas conforman los bloques de código. Debido a que en Phyton solo hay sangría y \":\"\n",
    "# En java hay otros limitadores como {} ; ()\n",
    "v1 = 5\n",
    "if v1 == 6:\n",
    "    print('El número es 6')\n",
    "    print('El número es positivo')\n",
    "else:\n",
    "    print('El número no es 6')\n",
    "    print('El número es menor que 6')\n"
   ]
  },
  {
   "cell_type": "code",
   "execution_count": null,
   "metadata": {},
   "outputs": [],
   "source": [
    "# Comentarios\n",
    "# Usar: documentar el código, documentar funciones para que nuestro código sea legible"
   ]
  },
  {
   "cell_type": "code",
   "execution_count": 13,
   "metadata": {},
   "outputs": [
    {
     "name": "stdout",
     "output_type": "stream",
     "text": [
      "<class 'complex'>\n"
     ]
    }
   ],
   "source": [
    "# Variables, en Phyton las variables se crean cuando se les asigna un valor. No es necesario declararlas.\n",
    "variable1 = 'Datapath'\n",
    "variable2 = 3\n",
    "variable3 = 2.4\n",
    "variable4 = 3j\n",
    "type(variable1)\n",
    "print(type(variable4))\n"
   ]
  },
  {
   "cell_type": "code",
   "execution_count": 9,
   "metadata": {},
   "outputs": [
    {
     "name": "stdout",
     "output_type": "stream",
     "text": [
      "pera\n",
      "manzana\n",
      "platano\n"
     ]
    }
   ],
   "source": [
    "# Asignación múltiples de variables\n",
    "x, y, z = 'pera', 'manzana', 'platano'\n",
    "print(x)\n",
    "print(y)\n",
    "print(z)"
   ]
  },
  {
   "cell_type": "code",
   "execution_count": 12,
   "metadata": {},
   "outputs": [
    {
     "name": "stdout",
     "output_type": "stream",
     "text": [
      "D\n"
     ]
    }
   ],
   "source": [
    "# String, los caracteres pueden estar en comillas simples o dobles.\n",
    "var1 = 'Datapath'\n",
    "# Se puede extraer una parte de la cadena, indicando en corchetes su ubicación. La ubicación del primer elemento es 0.\n",
    "print(var1[0])\n"
   ]
  },
  {
   "cell_type": "code",
   "execution_count": null,
   "metadata": {},
   "outputs": [],
   "source": [
    "# Listas\n",
    "lista1 = [] #Lista vacía\n",
    "lista2 = [1, 2, 3, 4, 5] #Lista de enteros\n",
    "lista3 = ['data', 'path'] #Lista de strings\n",
    "lista4 = [1, 'data', 4] #Lista mixta\n",
    "lista5 = ['manzana', 2, 3, ['apple', 4, 5]] #Lista anidada\n",
    "lista6 = ['contar','un','cuento']"
   ]
  },
  {
   "cell_type": "code",
   "execution_count": null,
   "metadata": {},
   "outputs": [],
   "source": [
    "lista5 = ['manzana', 2, 3, ['apple', 4, 5]] #Lista anidada\n",
    "lista6 = ['contar','un','cuento']\n",
    "print (lista5)\n",
    "print (lista5[0])\n",
    "print (lista5[3])\n",
    "print (lista5[4][0])\n",
    "print (lista6)"
   ]
  },
  {
   "cell_type": "code",
   "execution_count": 5,
   "metadata": {},
   "outputs": [
    {
     "name": "stdout",
     "output_type": "stream",
     "text": [
      "[1, 2, 3, 4]\n",
      "[1, 2]\n"
     ]
    }
   ],
   "source": [
    "lista_nueva=[1,3,4,5]\n",
    "#Corregir una lista, para que la lista anterior sea incremental\n",
    "lista_nueva[1]=2\n",
    "lista_nueva[2]=3\n",
    "lista_nueva[3]=4\n",
    "print(lista_nueva)\n",
    "#Selecionamos un rango de datos dentro de una lista. La estructura es print(nombrelista[inicio,fin+1])]\n",
    "print(lista_nueva[0:2])"
   ]
  },
  {
   "cell_type": "code",
   "execution_count": 6,
   "metadata": {},
   "outputs": [
    {
     "name": "stdout",
     "output_type": "stream",
     "text": [
      "[1, 7, 8, 4]\n"
     ]
    }
   ],
   "source": [
    "#Remplazar los indices 1 y 3-1=2 de LISTA_NUEVA\n",
    "lista_nueva[1:3]=[7,8]\n",
    "print(lista_nueva)"
   ]
  },
  {
   "cell_type": "code",
   "execution_count": 17,
   "metadata": {},
   "outputs": [
    {
     "name": "stdout",
     "output_type": "stream",
     "text": [
      "[10]\n",
      "[10, [11, 12, 13]]\n",
      "[10, [11, 12, 13], 11, 12, 13]\n"
     ]
    }
   ],
   "source": [
    "#Vaciamos toda la lista\n",
    "lista_nueva.clear()\n",
    "# append -> Agregar UN SOLO elemento\n",
    "# extend -> Agrega una lista de elementos\n",
    "lista_nueva.append(10)\n",
    "print(lista_nueva)\n",
    "#Agregamos la lista (11,12,13) como UN SOLO elemento\n",
    "lista_nueva.append([11,12,13])\n",
    "print(lista_nueva)\n",
    "#Agregamos los elementos de la lista (11,12,13) individualmente\n",
    "lista_nueva.extend([11,12,13])\n",
    "print(lista_nueva)"
   ]
  },
  {
   "cell_type": "code",
   "execution_count": 19,
   "metadata": {},
   "outputs": [
    {
     "name": "stdout",
     "output_type": "stream",
     "text": [
      "('Juan', 2, 7, (1, 2, 3))\n",
      "2\n"
     ]
    }
   ],
   "source": [
    "tupla = () #Tupla vacía\n",
    "tupla_enteros = (1,2,3,4)\n",
    "tupla_mixta = ('Juan',1,3,4)\n",
    "tupla_anidada = ('Juan',2,7,(1,2,3))\n",
    "#Mostramos toda la tupla y un solo elemento de la lista\n",
    "print(tupla_anidada)\n",
    "print(tupla_anidada[1])"
   ]
  },
  {
   "cell_type": "code",
   "execution_count": 20,
   "metadata": {},
   "outputs": [
    {
     "ename": "TypeError",
     "evalue": "'tuple' object does not support item assignment",
     "output_type": "error",
     "traceback": [
      "\u001b[0;31m---------------------------------------------------------------------------\u001b[0m",
      "\u001b[0;31mTypeError\u001b[0m                                 Traceback (most recent call last)",
      "Cell \u001b[0;32mIn[20], line 2\u001b[0m\n\u001b[1;32m      1\u001b[0m \u001b[38;5;66;03m#No se pueden cambiar\u001b[39;00m\n\u001b[0;32m----> 2\u001b[0m \u001b[43mtupla_anidada\u001b[49m\u001b[43m[\u001b[49m\u001b[38;5;241;43m1\u001b[39;49m\u001b[43m]\u001b[49m\u001b[38;5;241m=\u001b[39m\u001b[38;5;241m4\u001b[39m\n",
      "\u001b[0;31mTypeError\u001b[0m: 'tuple' object does not support item assignment"
     ]
    }
   ],
   "source": [
    "#No se pueden cambiar\n",
    "tupla_anidada[1]=4"
   ]
  },
  {
   "cell_type": "code",
   "execution_count": 23,
   "metadata": {},
   "outputs": [
    {
     "name": "stdout",
     "output_type": "stream",
     "text": [
      "<class 'str'>\n",
      "<class 'tuple'>\n",
      "<class 'tuple'>\n"
     ]
    }
   ],
   "source": [
    "#Se diferencian de variables\n",
    "tupla =('manzana')\n",
    "print(type(tupla))\n",
    "#Porque tienen más de un elemento\n",
    "tupla =('manzana',)\n",
    "print(type(tupla))\n",
    "#Los parentesis son opcionales\n",
    "tupla ='manzana',\n",
    "print(type(tupla))"
   ]
  },
  {
   "cell_type": "code",
   "execution_count": 26,
   "metadata": {},
   "outputs": [
    {
     "name": "stdout",
     "output_type": "stream",
     "text": [
      "10\n",
      "[11, 12, 13]\n",
      "11\n",
      "12\n",
      "13\n",
      "final\n"
     ]
    }
   ],
   "source": [
    "#Se pueden iterar listas y tuplas\n",
    "#Para (for) cada elemento (item) en (in) la lista x (lista_name) hacer (:)\n",
    "for item in lista_nueva:\n",
    "    print (item)\n",
    "#Indicamos l fin del ciclo for con la palabra final (esta no forma parte del ciclo, como se observa en su identación)\n",
    "print ('final')"
   ]
  },
  {
   "cell_type": "code",
   "execution_count": 31,
   "metadata": {},
   "outputs": [
    {
     "name": "stdout",
     "output_type": "stream",
     "text": [
      "{}\n",
      "{1: 'Jimmy', 2: 'Lucero'}\n",
      "{'nombre': 'Jimmy', 'apellido': 'Lucero', 3: 33456}\n",
      "{'nombre': 'Jimmy', 'apellido': 'Lucero', 1: 33456, 'lista': [1, 2, 3]}\n",
      "[1, 2, 3]\n",
      "33456\n"
     ]
    }
   ],
   "source": [
    "#Diccionarios son equivalentes a archivos json\n",
    "#{'key':'value', 'key2':'value'}\n",
    "\n",
    "diccionario_vacio = {}\n",
    "print(diccionario_vacio)\n",
    "diccionario_enteros = {1:'Jimmy', 2:'Lucero'}\n",
    "print(diccionario_enteros)\n",
    "diccionario_mixta = {'nombre':'Jimmy','apellido':'Lucero',3:33456} #Las claves y valores puede ser mixtos\n",
    "print(diccionario_mixta)\n",
    "#Se puede añadir una lista como elemento de un diccionario\n",
    "diccionario_mixta = {'nombre':'Jimmy','apellido':'Lucero',1:33456,'lista':[1,2,3]}\n",
    "print(diccionario_mixta)\n",
    "print(diccionario_mixta['lista'])\n",
    "print(diccionario_mixta[1]) #Se consulta por nombres de keys, el key tiene que estar si o si definidoS"
   ]
  },
  {
   "cell_type": "code",
   "execution_count": 35,
   "metadata": {},
   "outputs": [
    {
     "name": "stdout",
     "output_type": "stream",
     "text": [
      "5 es mayor que cero y positivo\n"
     ]
    }
   ],
   "source": [
    "#Control de flujo\n",
    "\n",
    "#If\n",
    "#Creamos la variable num\n",
    "num = 5 \n",
    "\n",
    "if num>0: #Si num es mayor que cero entonces(:)\n",
    "   print(num, 'es mayor que cero y positivo')\n",
    "else: #Si num no cumple la condicion, entonces pasa esto otro (else:)\n",
    "   print(num, 'es menor que cero y negativo')"
   ]
  },
  {
   "cell_type": "code",
   "execution_count": 36,
   "metadata": {},
   "outputs": [
    {
     "name": "stdout",
     "output_type": "stream",
     "text": [
      "4  es positivo\n"
     ]
    }
   ],
   "source": [
    "#Para abrir un textbox vacio\n",
    "num = input('ingresa un numero: ')\n",
    "#Convertimos num en entero\n",
    "num = int(input('ingresa un numero: '))\n",
    "\n",
    "# Podemos hacer if anidados\n",
    "if num >= 0 :\n",
    "    if num == 0:\n",
    "        print(num,' es cero')\n",
    "    else: \n",
    "        print (num, ' es positivo')\n",
    "else:\n",
    "    print(num, ' es negativo')"
   ]
  },
  {
   "cell_type": "code",
   "execution_count": 38,
   "metadata": {},
   "outputs": [
    {
     "name": "stdout",
     "output_type": "stream",
     "text": [
      "5  es cinco\n"
     ]
    }
   ],
   "source": [
    "#Para abrir un textbox vacio\n",
    "num = input('ingresa un numero: ')\n",
    "#Convertimos num en entero\n",
    "num = int(input('ingresa un numero: '))\n",
    "\n",
    "# Podemos hacer if anidados\n",
    "if num >= 0 :\n",
    "    if num == 0:\n",
    "        print(num,' es cero')\n",
    "    #Para añadir más condiciones if\n",
    "    elif num == 5:\n",
    "        print (num, ' es cinco')\n",
    "    else: print (num, 'es positivo')\n",
    "else:\n",
    "    print(num, ' es negativo')"
   ]
  },
  {
   "cell_type": "code",
   "execution_count": 39,
   "metadata": {},
   "outputs": [
    {
     "name": "stdout",
     "output_type": "stream",
     "text": [
      "suma=  0\n",
      "1\n",
      "suma=  1\n",
      "2\n",
      "suma=  3\n",
      "3\n",
      "suma=  6\n",
      "4\n",
      "suma=  10\n",
      "5\n",
      "Suma final es 15\n"
     ]
    }
   ],
   "source": [
    "# FOR\n",
    "# Para (for) elemento (ej. item) en (in) objeto (lista, tupla, diccionario) + :\n",
    "    #Dar como resultado (print()). Luego de print, se pone la demas lógica.\n",
    "#OBJETIVO: Queremos la suma acumulativa de los elementos de la lista numeros\n",
    "numeros = [1,2,3,4,5]\n",
    "#Establecemos la variable donde se va acumular el resultado\n",
    "suma = 0\n",
    "\n",
    "for item in numeros:\n",
    "    print ('suma= ', suma)\n",
    "    print (item)\n",
    "    suma = suma + item\n",
    "# Mostramos el resultado final\n",
    "print ('Suma final es', suma)"
   ]
  },
  {
   "cell_type": "code",
   "execution_count": 48,
   "metadata": {},
   "outputs": [
    {
     "name": "stdout",
     "output_type": "stream",
     "text": [
      "Sumamos 0 y  1\n",
      "1\n",
      "Sumamos 1 y  2\n",
      "3\n",
      "Sumamos 3 y  3\n",
      "6\n",
      "Sumamos 6 y  4\n",
      "10\n",
      "Sumamos 10 y  5\n",
      "15\n",
      "Sumamos 15 y  6\n",
      "21\n",
      "Sumamos 21 y  7\n",
      "28\n",
      "Sumamos 28 y  8\n",
      "36\n",
      "Sumamos 36 y  9\n",
      "45\n",
      "Sumamos 45 y  10\n",
      "55\n"
     ]
    }
   ],
   "source": [
    "#WHILE, se usa para bucles donde se tiene que probar una condición antes de iniciarse\n",
    "# while True:\n",
    "    # print ('resultado')\n",
    "#La lógica es mientras (while) la condición (ej. a<b) sea verdadera, entonces (:)\n",
    "\n",
    "#Establecemos var1, que marcará el fin del ciclo\n",
    "n = 10\n",
    "suma = 0\n",
    "#Establecemos var2, que se usará como contador en el ciclo\n",
    "i = 1\n",
    "#OBJETIVO: Queremos obtener la suma de los números del 1 al 10\n",
    "while i <= n:\n",
    "    print('Sumamos', suma, 'y ',i)\n",
    "    suma = suma + i\n",
    "    i = i+ 1\n",
    "    print(suma)"
   ]
  },
  {
   "cell_type": "code",
   "execution_count": 51,
   "metadata": {},
   "outputs": [
    {
     "name": "stdout",
     "output_type": "stream",
     "text": [
      "1\n",
      "2\n",
      "3\n",
      "4\n",
      "5\n",
      "6\n",
      "7\n",
      "8\n",
      "9\n",
      "10\n"
     ]
    }
   ],
   "source": [
    "n = 10\n",
    "#Establecemos var1, que se usará como contador en el ciclo\n",
    "i = 1\n",
    "#OBJETIVO: Queremos obtener los números del 1 al 10\n",
    "while i <= n:\n",
    "    print(i)\n",
    "    i = i+ 1"
   ]
  },
  {
   "cell_type": "code",
   "execution_count": 52,
   "metadata": {},
   "outputs": [
    {
     "name": "stdout",
     "output_type": "stream",
     "text": [
      "Hola\n"
     ]
    }
   ],
   "source": [
    "#FUNCION\n",
    "\n",
    "#Definimos la función que imprima Hola\n",
    "def functionprint():\n",
    "    print('Hola')\n",
    "functionprint()"
   ]
  },
  {
   "cell_type": "code",
   "execution_count": 55,
   "metadata": {},
   "outputs": [
    {
     "data": {
      "text/plain": [
       "3"
      ]
     },
     "execution_count": 55,
     "metadata": {},
     "output_type": "execute_result"
    }
   ],
   "source": [
    "#Definimos una función con un input\n",
    "def functionsum(a,b):\n",
    "    return a+b\n",
    "\n",
    "functionsum(1,2)"
   ]
  },
  {
   "cell_type": "code",
   "execution_count": 56,
   "metadata": {},
   "outputs": [
    {
     "data": {
      "text/plain": [
       "6"
      ]
     },
     "execution_count": 56,
     "metadata": {},
     "output_type": "execute_result"
    }
   ],
   "source": [
    "#En funciones simples, se puede usar la plabra lambda para indicar el input y operación en una sola línea de código\n",
    "sumamos = lambda a,b,c: a+b+c\n",
    "sumamos(3,1,2)"
   ]
  },
  {
   "cell_type": "code",
   "execution_count": 58,
   "metadata": {},
   "outputs": [
    {
     "data": {
      "text/plain": [
       "55"
      ]
     },
     "execution_count": 58,
     "metadata": {},
     "output_type": "execute_result"
    }
   ],
   "source": [
    "#Definimos una función para sumar los primeros N número\n",
    "def sumamosnumeros(NUM):\n",
    "    suma = 0\n",
    "    i = 1\n",
    "    while i <= NUM:\n",
    "        suma += i\n",
    "        i += 1\n",
    "    return suma\n",
    "#Suma de los 10 PRIMEROS NUMEROS\n",
    "sumamosnumeros(10)"
   ]
  },
  {
   "cell_type": "code",
   "execution_count": 64,
   "metadata": {},
   "outputs": [
    {
     "name": "stdout",
     "output_type": "stream",
     "text": [
      "['manzana', 2, 3, ['apple', 4, 5]]\n",
      "manzana\n",
      "['apple', 4, 5]\n",
      "apple\n",
      "['contar', 'un', 'cuento']\n"
     ]
    }
   ],
   "source": [
    "lista5 = ['manzana', 2, 3, ['apple', 4, 5]] #Lista anidada\n",
    "lista6 = ['contar','un','cuento']\n",
    "print (lista5)\n",
    "print (lista5[0])\n",
    "print (lista5[3])\n",
    "print (lista5[3][0])\n",
    "print (lista6)"
   ]
  },
  {
   "cell_type": "code",
   "execution_count": 66,
   "metadata": {},
   "outputs": [
    {
     "name": "stdout",
     "output_type": "stream",
     "text": [
      "[1, 2, 3]\n"
     ]
    }
   ],
   "source": [
    "# EJERCICIOS\n",
    "# funcion para buscar un elemento en una lista\n",
    "def buscar(iteminicio,itemfin):\n",
    "    item2 = itemfin + 1\n",
    "    return print(listamixta[iteminicio:item2])\n",
    "\n",
    "listamixta = [1,2,3,'hola','mundo']\n",
    "buscar(0,2)"
   ]
  },
  {
   "cell_type": "code",
   "execution_count": null,
   "metadata": {},
   "outputs": [],
   "source": [
    "# funcion que sume los numeros positivos de una lista\n",
    "# funcion que busque una clave de un diccionario\n",
    "# filtrar numeros impares en una lista"
   ]
  }
 ],
 "metadata": {
  "kernelspec": {
   "display_name": "Python 3",
   "language": "python",
   "name": "python3"
  },
  "language_info": {
   "codemirror_mode": {
    "name": "ipython",
    "version": 3
   },
   "file_extension": ".py",
   "mimetype": "text/x-python",
   "name": "python",
   "nbconvert_exporter": "python",
   "pygments_lexer": "ipython3",
   "version": "3.12.1"
  }
 },
 "nbformat": 4,
 "nbformat_minor": 2
}
